{
 "cells": [
  {
   "attachments": {},
   "cell_type": "markdown",
   "metadata": {},
   "source": [
    "# Project Overview"
   ]
  },
  {
   "attachments": {},
   "cell_type": "markdown",
   "metadata": {},
   "source": [
    "Business Objective"
   ]
  },
  {
   "attachments": {},
   "cell_type": "markdown",
   "metadata": {},
   "source": [
    "XYZ is a service-providing company that provides customers with a one-year subscription plan for their product. The company wants to know if the customers will renew the subscription for the coming year or not. Churned customers are those who have decided to end their relationship with their existing company. In this project, we will look at the reasons for churning out."
   ]
  },
  {
   "attachments": {},
   "cell_type": "markdown",
   "metadata": {},
   "source": [
    "Project plan"
   ]
  },
  {
   "attachments": {},
   "cell_type": "markdown",
   "metadata": {},
   "source": [
    "1. Setup the project\n",
    "    - install the requirements\n",
    "    - import the packages\n",
    "    - reading the dataset\n",
    "2. Data cleaning\n",
    "    - handling null values\n",
    "    - encoding categorical variables\n",
    "3. Exploratory data analysis\n",
    "    - visualizing data to reveal insights\n",
    "4. Feature engineering\n",
    "    - feature selection - dropping unwanted features\n",
    "    - Handling with unbalanced data\n",
    "        - with balanced weights\n",
    "        - random weights\n",
    "        - adjusting imbalanced data\n",
    "        - using SMOTE\n",
    "    - train test split\n",
    "5. Model building\n",
    "    - logistic regression statsmodel library\n",
    "6. Model validation - predictions\n",
    "    - accuracy score\n",
    "    - confusion matrix\n",
    "    - ROC and AUC\n",
    "    - recal score\n",
    "    - precision score\n",
    "    - F1 score\n",
    "7. Save the model\n",
    "    - pickle file"
   ]
  },
  {
   "attachments": {},
   "cell_type": "markdown",
   "metadata": {},
   "source": [
    "# Setup the project"
   ]
  },
  {
   "attachments": {},
   "cell_type": "markdown",
   "metadata": {},
   "source": [
    "Install requirements"
   ]
  },
  {
   "cell_type": "code",
   "execution_count": 4,
   "metadata": {},
   "outputs": [
    {
     "name": "stdout",
     "output_type": "stream",
     "text": [
      "Collecting pandas (from -r ../requirements.txt (line 1))\n",
      "  Using cached pandas-2.0.3-cp39-cp39-macosx_11_0_arm64.whl (10.9 MB)\n",
      "Collecting numpy (from -r ../requirements.txt (line 2))\n",
      "  Using cached numpy-1.25.0-cp39-cp39-macosx_11_0_arm64.whl (14.0 MB)\n",
      "Collecting seaborn (from -r ../requirements.txt (line 3))\n",
      "  Using cached seaborn-0.12.2-py3-none-any.whl (293 kB)\n",
      "Collecting scikit-learn (from -r ../requirements.txt (line 4))\n",
      "  Downloading scikit_learn-1.3.0-cp39-cp39-macosx_12_0_arm64.whl (9.5 MB)\n",
      "\u001b[2K     \u001b[90m━━━━━━━━━━━━━━━━━━━━━━━━━━━━━━━━━━━━━━━━\u001b[0m \u001b[32m9.5/9.5 MB\u001b[0m \u001b[31m24.4 MB/s\u001b[0m eta \u001b[36m0:00:00\u001b[0m00:01\u001b[0m00:01\u001b[0m\n",
      "\u001b[?25hCollecting statsmodels (from -r ../requirements.txt (line 5))\n",
      "  Using cached statsmodels-0.14.0-cp39-cp39-macosx_11_0_arm64.whl (9.4 MB)\n",
      "Collecting matplotlib (from -r ../requirements.txt (line 6))\n",
      "  Using cached matplotlib-3.7.1-cp39-cp39-macosx_11_0_arm64.whl (7.3 MB)\n",
      "Requirement already satisfied: python-dateutil>=2.8.2 in /Users/saili/Library/CloudStorage/OneDrive-GeorgeMasonUniversity-O365Production/Bag/projects/customer-churn-prediction/.venv/lib/python3.9/site-packages (from pandas->-r ../requirements.txt (line 1)) (2.8.2)\n",
      "Collecting pytz>=2020.1 (from pandas->-r ../requirements.txt (line 1))\n",
      "  Using cached pytz-2023.3-py2.py3-none-any.whl (502 kB)\n",
      "Collecting tzdata>=2022.1 (from pandas->-r ../requirements.txt (line 1))\n",
      "  Using cached tzdata-2023.3-py2.py3-none-any.whl (341 kB)\n",
      "Collecting scipy>=1.5.0 (from scikit-learn->-r ../requirements.txt (line 4))\n",
      "  Using cached scipy-1.11.1-cp39-cp39-macosx_12_0_arm64.whl (29.6 MB)\n",
      "Collecting joblib>=1.1.1 (from scikit-learn->-r ../requirements.txt (line 4))\n",
      "  Using cached joblib-1.3.1-py3-none-any.whl (301 kB)\n",
      "Collecting threadpoolctl>=2.0.0 (from scikit-learn->-r ../requirements.txt (line 4))\n",
      "  Using cached threadpoolctl-3.1.0-py3-none-any.whl (14 kB)\n",
      "Collecting patsy>=0.5.2 (from statsmodels->-r ../requirements.txt (line 5))\n",
      "  Using cached patsy-0.5.3-py2.py3-none-any.whl (233 kB)\n",
      "Requirement already satisfied: packaging>=21.3 in /Users/saili/Library/CloudStorage/OneDrive-GeorgeMasonUniversity-O365Production/Bag/projects/customer-churn-prediction/.venv/lib/python3.9/site-packages (from statsmodels->-r ../requirements.txt (line 5)) (23.1)\n",
      "Collecting contourpy>=1.0.1 (from matplotlib->-r ../requirements.txt (line 6))\n",
      "  Using cached contourpy-1.1.0-cp39-cp39-macosx_11_0_arm64.whl (229 kB)\n",
      "Collecting cycler>=0.10 (from matplotlib->-r ../requirements.txt (line 6))\n",
      "  Using cached cycler-0.11.0-py3-none-any.whl (6.4 kB)\n",
      "Collecting fonttools>=4.22.0 (from matplotlib->-r ../requirements.txt (line 6))\n",
      "  Using cached fonttools-4.40.0-cp39-cp39-macosx_10_9_universal2.whl (2.6 MB)\n",
      "Collecting kiwisolver>=1.0.1 (from matplotlib->-r ../requirements.txt (line 6))\n",
      "  Using cached kiwisolver-1.4.4-cp39-cp39-macosx_11_0_arm64.whl (63 kB)\n",
      "Collecting pillow>=6.2.0 (from matplotlib->-r ../requirements.txt (line 6))\n",
      "  Downloading Pillow-10.0.0-cp39-cp39-macosx_11_0_arm64.whl (3.1 MB)\n",
      "\u001b[2K     \u001b[90m━━━━━━━━━━━━━━━━━━━━━━━━━━━━━━━━━━━━━━━━\u001b[0m \u001b[32m3.1/3.1 MB\u001b[0m \u001b[31m28.0 MB/s\u001b[0m eta \u001b[36m0:00:00\u001b[0ma \u001b[36m0:00:01\u001b[0m\n",
      "\u001b[?25hCollecting pyparsing>=2.3.1 (from matplotlib->-r ../requirements.txt (line 6))\n",
      "  Using cached pyparsing-3.1.0-py3-none-any.whl (102 kB)\n",
      "Collecting importlib-resources>=3.2.0 (from matplotlib->-r ../requirements.txt (line 6))\n",
      "  Using cached importlib_resources-5.12.0-py3-none-any.whl (36 kB)\n",
      "Requirement already satisfied: zipp>=3.1.0 in /Users/saili/Library/CloudStorage/OneDrive-GeorgeMasonUniversity-O365Production/Bag/projects/customer-churn-prediction/.venv/lib/python3.9/site-packages (from importlib-resources>=3.2.0->matplotlib->-r ../requirements.txt (line 6)) (3.15.0)\n",
      "Requirement already satisfied: six in /Users/saili/Library/CloudStorage/OneDrive-GeorgeMasonUniversity-O365Production/Bag/projects/customer-churn-prediction/.venv/lib/python3.9/site-packages (from patsy>=0.5.2->statsmodels->-r ../requirements.txt (line 5)) (1.16.0)\n",
      "Installing collected packages: pytz, tzdata, threadpoolctl, pyparsing, pillow, numpy, kiwisolver, joblib, importlib-resources, fonttools, cycler, scipy, patsy, pandas, contourpy, statsmodels, scikit-learn, matplotlib, seaborn\n",
      "Successfully installed contourpy-1.1.0 cycler-0.11.0 fonttools-4.40.0 importlib-resources-5.12.0 joblib-1.3.1 kiwisolver-1.4.4 matplotlib-3.7.1 numpy-1.25.0 pandas-2.0.3 patsy-0.5.3 pillow-10.0.0 pyparsing-3.1.0 pytz-2023.3 scikit-learn-1.3.0 scipy-1.11.1 seaborn-0.12.2 statsmodels-0.14.0 threadpoolctl-3.1.0 tzdata-2023.3\n"
     ]
    }
   ],
   "source": [
    "! pip install -r ../requirements.txt"
   ]
  },
  {
   "attachments": {},
   "cell_type": "markdown",
   "metadata": {},
   "source": [
    "Importing packages"
   ]
  },
  {
   "cell_type": "code",
   "execution_count": 6,
   "metadata": {},
   "outputs": [],
   "source": [
    "import pandas as pd"
   ]
  },
  {
   "attachments": {},
   "cell_type": "markdown",
   "metadata": {},
   "source": [
    "Reading dataset"
   ]
  },
  {
   "cell_type": "code",
   "execution_count": 7,
   "metadata": {},
   "outputs": [
    {
     "data": {
      "text/html": [
       "<div>\n",
       "<style scoped>\n",
       "    .dataframe tbody tr th:only-of-type {\n",
       "        vertical-align: middle;\n",
       "    }\n",
       "\n",
       "    .dataframe tbody tr th {\n",
       "        vertical-align: top;\n",
       "    }\n",
       "\n",
       "    .dataframe thead th {\n",
       "        text-align: right;\n",
       "    }\n",
       "</style>\n",
       "<table border=\"1\" class=\"dataframe\">\n",
       "  <thead>\n",
       "    <tr style=\"text-align: right;\">\n",
       "      <th></th>\n",
       "      <th>year</th>\n",
       "      <th>customer_id</th>\n",
       "      <th>phone_no</th>\n",
       "      <th>gender</th>\n",
       "      <th>age</th>\n",
       "      <th>no_of_days_subscribed</th>\n",
       "      <th>multi_screen</th>\n",
       "      <th>mail_subscribed</th>\n",
       "      <th>weekly_mins_watched</th>\n",
       "      <th>minimum_daily_mins</th>\n",
       "      <th>maximum_daily_mins</th>\n",
       "      <th>weekly_max_night_mins</th>\n",
       "      <th>videos_watched</th>\n",
       "      <th>maximum_days_inactive</th>\n",
       "      <th>customer_support_calls</th>\n",
       "      <th>churn</th>\n",
       "    </tr>\n",
       "  </thead>\n",
       "  <tbody>\n",
       "    <tr>\n",
       "      <th>0</th>\n",
       "      <td>2015</td>\n",
       "      <td>100198</td>\n",
       "      <td>409-8743</td>\n",
       "      <td>Female</td>\n",
       "      <td>36</td>\n",
       "      <td>62</td>\n",
       "      <td>no</td>\n",
       "      <td>no</td>\n",
       "      <td>148.35</td>\n",
       "      <td>12.2</td>\n",
       "      <td>16.81</td>\n",
       "      <td>82</td>\n",
       "      <td>1</td>\n",
       "      <td>4.0</td>\n",
       "      <td>1</td>\n",
       "      <td>0.0</td>\n",
       "    </tr>\n",
       "    <tr>\n",
       "      <th>1</th>\n",
       "      <td>2015</td>\n",
       "      <td>100643</td>\n",
       "      <td>340-5930</td>\n",
       "      <td>Female</td>\n",
       "      <td>39</td>\n",
       "      <td>149</td>\n",
       "      <td>no</td>\n",
       "      <td>no</td>\n",
       "      <td>294.45</td>\n",
       "      <td>7.7</td>\n",
       "      <td>33.37</td>\n",
       "      <td>87</td>\n",
       "      <td>3</td>\n",
       "      <td>3.0</td>\n",
       "      <td>2</td>\n",
       "      <td>0.0</td>\n",
       "    </tr>\n",
       "    <tr>\n",
       "      <th>2</th>\n",
       "      <td>2015</td>\n",
       "      <td>100756</td>\n",
       "      <td>372-3750</td>\n",
       "      <td>Female</td>\n",
       "      <td>65</td>\n",
       "      <td>126</td>\n",
       "      <td>no</td>\n",
       "      <td>no</td>\n",
       "      <td>87.30</td>\n",
       "      <td>11.9</td>\n",
       "      <td>9.89</td>\n",
       "      <td>91</td>\n",
       "      <td>1</td>\n",
       "      <td>4.0</td>\n",
       "      <td>5</td>\n",
       "      <td>1.0</td>\n",
       "    </tr>\n",
       "    <tr>\n",
       "      <th>3</th>\n",
       "      <td>2015</td>\n",
       "      <td>101595</td>\n",
       "      <td>331-4902</td>\n",
       "      <td>Female</td>\n",
       "      <td>24</td>\n",
       "      <td>131</td>\n",
       "      <td>no</td>\n",
       "      <td>yes</td>\n",
       "      <td>321.30</td>\n",
       "      <td>9.5</td>\n",
       "      <td>36.41</td>\n",
       "      <td>102</td>\n",
       "      <td>4</td>\n",
       "      <td>3.0</td>\n",
       "      <td>3</td>\n",
       "      <td>0.0</td>\n",
       "    </tr>\n",
       "    <tr>\n",
       "      <th>4</th>\n",
       "      <td>2015</td>\n",
       "      <td>101653</td>\n",
       "      <td>351-8398</td>\n",
       "      <td>Female</td>\n",
       "      <td>40</td>\n",
       "      <td>191</td>\n",
       "      <td>no</td>\n",
       "      <td>no</td>\n",
       "      <td>243.00</td>\n",
       "      <td>10.9</td>\n",
       "      <td>27.54</td>\n",
       "      <td>83</td>\n",
       "      <td>7</td>\n",
       "      <td>3.0</td>\n",
       "      <td>1</td>\n",
       "      <td>0.0</td>\n",
       "    </tr>\n",
       "  </tbody>\n",
       "</table>\n",
       "</div>"
      ],
      "text/plain": [
       "   year  customer_id  phone_no  gender  age  no_of_days_subscribed  \\\n",
       "0  2015       100198  409-8743  Female   36                     62   \n",
       "1  2015       100643  340-5930  Female   39                    149   \n",
       "2  2015       100756  372-3750  Female   65                    126   \n",
       "3  2015       101595  331-4902  Female   24                    131   \n",
       "4  2015       101653  351-8398  Female   40                    191   \n",
       "\n",
       "  multi_screen mail_subscribed  weekly_mins_watched  minimum_daily_mins  \\\n",
       "0           no              no               148.35                12.2   \n",
       "1           no              no               294.45                 7.7   \n",
       "2           no              no                87.30                11.9   \n",
       "3           no             yes               321.30                 9.5   \n",
       "4           no              no               243.00                10.9   \n",
       "\n",
       "   maximum_daily_mins  weekly_max_night_mins  videos_watched  \\\n",
       "0               16.81                     82               1   \n",
       "1               33.37                     87               3   \n",
       "2                9.89                     91               1   \n",
       "3               36.41                    102               4   \n",
       "4               27.54                     83               7   \n",
       "\n",
       "   maximum_days_inactive  customer_support_calls  churn  \n",
       "0                    4.0                       1    0.0  \n",
       "1                    3.0                       2    0.0  \n",
       "2                    4.0                       5    1.0  \n",
       "3                    3.0                       3    0.0  \n",
       "4                    3.0                       1    0.0  "
      ]
     },
     "execution_count": 7,
     "metadata": {},
     "output_type": "execute_result"
    }
   ],
   "source": [
    "df = pd.read_csv('../input/customer_churn_size1.csv')\n",
    "df.head()"
   ]
  },
  {
   "attachments": {},
   "cell_type": "markdown",
   "metadata": {},
   "source": [
    "# Data Cleaning"
   ]
  },
  {
   "attachments": {},
   "cell_type": "markdown",
   "metadata": {},
   "source": [
    "Inspecting and cleaning up the frame"
   ]
  },
  {
   "cell_type": "code",
   "execution_count": 10,
   "metadata": {},
   "outputs": [],
   "source": [
    "def inspection(dataframe):\n",
    "    # this function provides information about the dataframe and produces heatmap\n",
    "\n",
    "    # import packages\n",
    "    import pandas as pd\n",
    "    import seaborn as sns\n",
    "    import matplotlib.pyplot as plt\n",
    "\n",
    "    print(\"Types of the variables we are working with:\")\n",
    "    print(dataframe.dtypes)\n",
    "\n",
    "    print(\"\\nInformation about null values:\")\n",
    "    print(dataframe.isnull().any(axis=1).sum())\n",
    "\n",
    "    print(\"\\nTotal missing values per variable:\")\n",
    "    print(dataframe.isnull().sum())\n",
    "\n",
    "    print(\"\\nMap of missing values\")\n",
    "    plt.figure(figsize=(10,10), dpi=80)\n",
    "    sns.heatmap(dataframe.isnull())\n",
    "    plt.show()    \n",
    "\n",
    "    return\n"
   ]
  },
  {
   "cell_type": "code",
   "execution_count": 11,
   "metadata": {},
   "outputs": [
    {
     "name": "stdout",
     "output_type": "stream",
     "text": [
      "Types of the variables we are working with:\n",
      "year                        int64\n",
      "customer_id                 int64\n",
      "phone_no                   object\n",
      "gender                     object\n",
      "age                         int64\n",
      "no_of_days_subscribed       int64\n",
      "multi_screen               object\n",
      "mail_subscribed            object\n",
      "weekly_mins_watched       float64\n",
      "minimum_daily_mins        float64\n",
      "maximum_daily_mins        float64\n",
      "weekly_max_night_mins       int64\n",
      "videos_watched              int64\n",
      "maximum_days_inactive     float64\n",
      "customer_support_calls      int64\n",
      "churn                     float64\n",
      "dtype: object\n",
      "\n",
      "Information about null values:\n",
      "82\n",
      "\n",
      "Total missing values per variable:\n",
      "year                       0\n",
      "customer_id                0\n",
      "phone_no                   0\n",
      "gender                    24\n",
      "age                        0\n",
      "no_of_days_subscribed      0\n",
      "multi_screen               0\n",
      "mail_subscribed            0\n",
      "weekly_mins_watched        0\n",
      "minimum_daily_mins         0\n",
      "maximum_daily_mins         0\n",
      "weekly_max_night_mins      0\n",
      "videos_watched             0\n",
      "maximum_days_inactive     28\n",
      "customer_support_calls     0\n",
      "churn                     35\n",
      "dtype: int64\n",
      "\n",
      "Map of missing values\n"
     ]
    },
    {
     "data": {
      "image/png": "[encoded data removed]",
      "text/plain": [
       "<Figure size 800x800 with 2 Axes>"
      ]
     },
     "metadata": {},
     "output_type": "display_data"
    }
   ],
   "source": [
    "inspection(df)"
   ]
  },
  {
   "cell_type": "code",
   "execution_count": null,
   "metadata": {},
   "outputs": [],
   "source": []
  }
 ],
 "metadata": {
  "kernelspec": {
   "display_name": ".venv",
   "language": "python",
   "name": "python3"
  },
  "language_info": {
   "codemirror_mode": {
    "name": "ipython",
    "version": 3
   },
   "file_extension": ".py",
   "mimetype": "text/x-python",
   "name": "python",
   "nbconvert_exporter": "python",
   "pygments_lexer": "ipython3",
   "version": "3.9.6"
  },
  "orig_nbformat": 4
 },
 "nbformat": 4,
 "nbformat_minor": 2
}
